{
 "cells": [
  {
   "cell_type": "markdown",
   "metadata": {},
   "source": [
    "#### Data Source:\n",
    "UCI Census Income Data Set: http://archive.ics.uci.edu/ml/datasets/Census+Income  "
   ]
  },
  {
   "cell_type": "markdown",
   "metadata": {},
   "source": [
    "#### Pre-configuration"
   ]
  },
  {
   "cell_type": "code",
   "execution_count": 1,
   "metadata": {},
   "outputs": [],
   "source": [
    "# data processing module\n",
    "import numpy as np\n",
    "import pandas as pd\n",
    "from utils_sub import *\n",
    "\n",
    "# federated learning module\n",
    "from models import *\n",
    "from FedAvg import *\n",
    "\n",
    "# others\n",
    "import os\n",
    "import torch\n",
    "\n",
    "# plot module\n",
    "# import seaborn as sns"
   ]
  },
  {
   "cell_type": "code",
   "execution_count": 2,
   "metadata": {},
   "outputs": [],
   "source": [
    "# set up computing resources\n",
    "os.environ[\"CUDA_VISIBLE_DEVICES\"] = \"0\"\n",
    "device = torch.device(\"cuda:0\" if torch.cuda.is_available() else \"cpu\")"
   ]
  },
  {
   "cell_type": "markdown",
   "metadata": {},
   "source": [
    "#### Non-iid sampling to generate subsets"
   ]
  },
  {
   "cell_type": "code",
   "execution_count": 3,
   "metadata": {},
   "outputs": [],
   "source": [
    "# Load data\n",
    "train_set, test_set = dataloader_adult()"
   ]
  },
  {
   "cell_type": "code",
   "execution_count": 4,
   "metadata": {},
   "outputs": [],
   "source": [
    "num_clients = 5"
   ]
  },
  {
   "cell_type": "code",
   "execution_count": 5,
   "metadata": {},
   "outputs": [],
   "source": [
    "train_noniid = load_noniid(num_clients, train_set)"
   ]
  },
  {
   "cell_type": "markdown",
   "metadata": {},
   "source": [
    "#### Fuzzify Adult data"
   ]
  },
  {
   "cell_type": "code",
   "execution_count": 6,
   "metadata": {},
   "outputs": [],
   "source": [
    "from fuzzyset import FuzzySet\n",
    "from fuzzification import FuzzyData"
   ]
  },
  {
   "cell_type": "code",
   "execution_count": 7,
   "metadata": {},
   "outputs": [],
   "source": [
    "def load_noniid_client(train_noniid, test_set):\n",
    "    data = []\n",
    "    for subset in train_noniid:\n",
    "        df = pd.DataFrame(subset)\n",
    "        df.columns = [*df.columns[:-1], 'target']\n",
    "        # fuzzy train data subset\n",
    "        train_data = FuzzyData(data = df, target = 'target')\n",
    "        train_data.quantile_fuzzification()\n",
    "        # get train epistemic values\n",
    "        epi_train_data = train_data.get_epistemic_values().values\n",
    "        # get train data labels\n",
    "        train_label = df['target'].values\n",
    "        # combine train data subsets\n",
    "        data.append((epi_train_data, train_label))\n",
    "        \n",
    "    # fuzzy test data subset  \n",
    "    test_data = FuzzyData(data = test_set, target = 'target')\n",
    "    test_data.quantile_fuzzification()\n",
    "    # get test epistemic values\n",
    "    epi_test_data = test_data.get_epistemic_values().values\n",
    "    # get test data labels\n",
    "    test_label = test_set['target'].values\n",
    "    \n",
    "    data.append((epi_test_data, test_label))\n",
    "    \n",
    "    return data"
   ]
  },
  {
   "cell_type": "code",
   "execution_count": 8,
   "metadata": {},
   "outputs": [],
   "source": [
    "data = load_noniid_client(train_noniid, test_set)"
   ]
  },
  {
   "cell_type": "code",
   "execution_count": 9,
   "metadata": {},
   "outputs": [],
   "source": [
    "lr = 0.001\n",
    "fl_param = {\n",
    "    'output_size': 3,\n",
    "    'client_num': num_clients,\n",
    "    'model': MLP,\n",
    "    'data': data,\n",
    "    'lr': lr,\n",
    "    'epoch': 3,\n",
    "    'C': 1,\n",
    "    'sigma': 0.5,\n",
    "    'clip': 2,\n",
    "    'batch_size': 128,\n",
    "    'device': device\n",
    "}\n",
    "import warnings\n",
    "warnings.filterwarnings(\"ignore\")\n",
    "fl_entity = FedAvgServer(fl_param).to(device)"
   ]
  },
  {
   "cell_type": "code",
   "execution_count": 10,
   "metadata": {},
   "outputs": [
    {
     "name": "stdout",
     "output_type": "stream",
     "text": [
      "global epochs = 1, acc = 0.1773\n",
      "global epochs = 2, acc = 0.2061\n",
      "global epochs = 3, acc = 0.2380\n",
      "global epochs = 4, acc = 0.2678\n",
      "global epochs = 5, acc = 0.3251\n",
      "global epochs = 6, acc = 0.3622\n",
      "global epochs = 7, acc = 0.4306\n",
      "global epochs = 8, acc = 0.5039\n",
      "global epochs = 9, acc = 0.5693\n",
      "global epochs = 10, acc = 0.6481\n",
      "global epochs = 11, acc = 0.7112\n",
      "global epochs = 12, acc = 0.7346\n",
      "global epochs = 13, acc = 0.7498\n",
      "global epochs = 14, acc = 0.7579\n",
      "global epochs = 15, acc = 0.7602\n",
      "global epochs = 16, acc = 0.7617\n",
      "global epochs = 17, acc = 0.7632\n",
      "global epochs = 18, acc = 0.7638\n",
      "global epochs = 19, acc = 0.7638\n",
      "global epochs = 20, acc = 0.7638\n",
      "global epochs = 21, acc = 0.7638\n",
      "global epochs = 22, acc = 0.7638\n",
      "global epochs = 23, acc = 0.7638\n",
      "global epochs = 24, acc = 0.7638\n",
      "global epochs = 25, acc = 0.7638\n",
      "global epochs = 26, acc = 0.7638\n",
      "global epochs = 27, acc = 0.7638\n",
      "global epochs = 28, acc = 0.7638\n",
      "global epochs = 29, acc = 0.7638\n",
      "global epochs = 30, acc = 0.7638\n",
      "global epochs = 31, acc = 0.7638\n",
      "global epochs = 32, acc = 0.7638\n",
      "global epochs = 33, acc = 0.7638\n",
      "global epochs = 34, acc = 0.7638\n",
      "global epochs = 35, acc = 0.7638\n",
      "global epochs = 36, acc = 0.7638\n",
      "global epochs = 37, acc = 0.7638\n",
      "global epochs = 38, acc = 0.7638\n",
      "global epochs = 39, acc = 0.7638\n",
      "global epochs = 40, acc = 0.7638\n",
      "global epochs = 41, acc = 0.7638\n",
      "global epochs = 42, acc = 0.7638\n",
      "global epochs = 43, acc = 0.7638\n",
      "global epochs = 44, acc = 0.7638\n",
      "global epochs = 45, acc = 0.7638\n",
      "global epochs = 46, acc = 0.7638\n",
      "global epochs = 47, acc = 0.7638\n",
      "global epochs = 48, acc = 0.7638\n",
      "global epochs = 49, acc = 0.7638\n",
      "global epochs = 50, acc = 0.7638\n"
     ]
    }
   ],
   "source": [
    "for e in range(50):\n",
    "    if e+1 % 10 == 0:\n",
    "        lr *= 0.1\n",
    "        fl_entity.set_lr(lr)\n",
    "    acc = fl_entity.global_update()\n",
    "    print(\"global epochs = {:d}, acc = {:.4f}\".format(e+1, acc))"
   ]
  }
 ],
 "metadata": {
  "kernelspec": {
   "display_name": "Python [conda env:pytorch]",
   "language": "python",
   "name": "conda-env-pytorch-py"
  },
  "language_info": {
   "codemirror_mode": {
    "name": "ipython",
    "version": 3
   },
   "file_extension": ".py",
   "mimetype": "text/x-python",
   "name": "python",
   "nbconvert_exporter": "python",
   "pygments_lexer": "ipython3",
   "version": "3.7.5"
  }
 },
 "nbformat": 4,
 "nbformat_minor": 4
}
